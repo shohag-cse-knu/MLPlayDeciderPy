{
 "cells": [
  {
   "cell_type": "markdown",
   "metadata": {},
   "source": [
    "# 1. Install Dependencies"
   ]
  },
  {
   "cell_type": "code",
   "execution_count": 1,
   "metadata": {},
   "outputs": [
    {
     "name": "stderr",
     "output_type": "stream",
     "text": [
      "C:\\Users\\syfur.shohag\\AppData\\Local\\Temp\\ipykernel_17384\\2353839536.py:1: DeprecationWarning: \n",
      "Pyarrow will become a required dependency of pandas in the next major release of pandas (pandas 3.0),\n",
      "(to allow more performant data types, such as the Arrow string type, and better interoperability with other libraries)\n",
      "but was not found to be installed on your system.\n",
      "If this would cause problems for you,\n",
      "please provide us feedback at https://github.com/pandas-dev/pandas/issues/54466\n",
      "        \n",
      "  import pandas as pd\n"
     ]
    }
   ],
   "source": [
    "import pandas as pd\n",
    "from sklearn.tree import DecisionTreeClassifier\n",
    "from sklearn.preprocessing import LabelEncoder\n",
    "import joblib"
   ]
  },
  {
   "cell_type": "markdown",
   "metadata": {},
   "source": [
    "# 2. Build The Model"
   ]
  },
  {
   "cell_type": "code",
   "execution_count": 2,
   "metadata": {},
   "outputs": [
    {
     "data": {
      "text/plain": [
       "['model/decision_tree.joblib']"
      ]
     },
     "execution_count": 2,
     "metadata": {},
     "output_type": "execute_result"
    }
   ],
   "source": [
    "# Load the training data\n",
    "train_data = pd.read_csv(\"data/train.csv\")\n",
    "\n",
    "# Separate features and target\n",
    "X_train = train_data.drop(\"value\", axis=1)\n",
    "y_train = train_data[\"value\"]\n",
    "\n",
    "# Convert categorical data to numerical using Label Encoding\n",
    "label_encoders = {}\n",
    "for column in X_train.columns:\n",
    "    le = LabelEncoder()\n",
    "    X_train[column] = le.fit_transform(X_train[column])\n",
    "    label_encoders[column] = le\n",
    "\n",
    "# Encode the target variable\n",
    "y_le = LabelEncoder()\n",
    "y_train = y_le.fit_transform(y_train)\n",
    "\n",
    "# Train the Decision Tree Classifier\n",
    "model = DecisionTreeClassifier()\n",
    "model.fit(X_train, y_train)\n",
    "# Save the model to a file\n",
    "joblib.dump(model, \"model/decision_tree.joblib\")"
   ]
  },
  {
   "cell_type": "markdown",
   "metadata": {},
   "source": [
    "# 3. Load The Test Data and Make Predictions"
   ]
  },
  {
   "cell_type": "code",
   "execution_count": 3,
   "metadata": {},
   "outputs": [
    {
     "name": "stdout",
     "output_type": "stream",
     "text": [
      "   Outlook  Temperature  Humidity  Wind Predicted Value\n",
      "0        2            1         0     1              No\n",
      "1        2            1         0     0              No\n",
      "2        0            1         0     1             Yes\n",
      "3        1            2         0     1             Yes\n",
      "4        1            0         1     1             Yes\n",
      "5        1            0         1     0              No\n",
      "6        0            0         1     0             Yes\n"
     ]
    }
   ],
   "source": [
    "# Load the test data\n",
    "test_data = pd.read_csv(\"data/test.csv\")\n",
    "\n",
    "# Apply the same encoding as the training data\n",
    "for column, le in label_encoders.items():\n",
    "    test_data[column] = le.transform(test_data[column])\n",
    "\n",
    "# Load the model from the file\n",
    "loaded_model = joblib.load(\"model/decision_tree.joblib\")\n",
    "# Use the loaded model to make predictions\n",
    "predictions = loaded_model.predict(test_data)\n",
    "\n",
    "# Predict using the model\n",
    "# predictions = model.predict(test_data)\n",
    "\n",
    "# Decode predictions to original labels\n",
    "predicted_labels = y_le.inverse_transform(predictions)\n",
    "\n",
    "# Output results\n",
    "test_data[\"Predicted Value\"] = predicted_labels\n",
    "print(test_data)"
   ]
  }
 ],
 "metadata": {
  "kernelspec": {
   "display_name": "Python 3",
   "language": "python",
   "name": "python3"
  },
  "language_info": {
   "codemirror_mode": {
    "name": "ipython",
    "version": 3
   },
   "file_extension": ".py",
   "mimetype": "text/x-python",
   "name": "python",
   "nbconvert_exporter": "python",
   "pygments_lexer": "ipython3",
   "version": "3.11.9"
  }
 },
 "nbformat": 4,
 "nbformat_minor": 2
}
